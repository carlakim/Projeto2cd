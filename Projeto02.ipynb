{
 "cells": [
  {
   "cell_type": "markdown",
   "metadata": {},
   "source": [
    "# Projeto 2 - Classificador Automático de Sentimento\n",
    "\n",
    "Você foi contratado por uma empresa parar analisar como os clientes estão reagindo a um determinado produto no Twitter. A empresa deseja que você crie um programa que irá analisar as mensagens disponíveis e classificará como \"relevante\" ou \"irrelevante\". Com isso ela deseja que mensagens negativas, que denigrem o nome do produto, ou que mereçam destaque, disparem um foco de atenção da área de marketing.<br /><br />\n",
    "Como aluno de Ciência dos Dados, você lembrou do Teorema de Bayes, mais especificamente do Classificador Naive-Bayes, que é largamente utilizado em filtros anti-spam de e-mails. O classificador permite calcular qual a probabilidade de uma mensagem ser relevante dadas as palavras em seu conteúdo.<br /><br />\n",
    "Para realizar o MVP (*minimum viable product*) do projeto, você precisa implementar uma versão do classificador que \"aprende\" o que é relevante com uma base de treinamento e compara a performance dos resultados com uma base de testes.<br /><br />\n",
    "Após validado, o seu protótipo poderá também capturar e classificar automaticamente as mensagens da plataforma.\n",
    "\n",
    "## Informações do Projeto\n",
    "\n",
    "Prazo: 13/Set até às 23:59.<br />\n",
    "Grupo: 1 ou 2 pessoas.<br /><br />\n",
    "Entregáveis via GitHub: \n",
    "* Arquivo notebook com o código do classificador, seguindo as orientações abaixo.\n",
    "* Arquivo Excel com as bases de treinamento e teste totalmente classificado.\n",
    "\n",
    "**NÃO disponibilizar o arquivo com os *access keys/tokens* do Twitter.**\n",
    "\n",
    "\n",
    "### Check 3: \n",
    "\n",
    "Até o dia 06 de Setembro às 23:59, o notebook e o xlsx devem estar no Github com as seguintes evidências: \n",
    "    * Conta no twitter criada.\n",
    "    * Produto escolhido.\n",
    "    * Arquivo Excel contendo a base de treinamento e teste já classificado.\n",
    "\n",
    "Sugestão de leitura:<br />\n",
    "http://docs.tweepy.org/en/v3.5.0/index.html<br />\n",
    "https://monkeylearn.com/blog/practical-explanation-naive-bayes-classifier/"
   ]
  },
  {
   "cell_type": "markdown",
   "metadata": {},
   "source": [
    "___\n",
    "\n",
    "## Preparando o ambiente\n",
    "\n",
    "Instalando a biblioteca *tweepy* para realizar a conexão com o Twitter:"
   ]
  },
  {
   "cell_type": "code",
   "execution_count": 192,
   "metadata": {
    "collapsed": true
   },
   "outputs": [],
   "source": [
    "%%capture\n",
    "\n",
    "#Instalando o tweepy\n",
    "!pip install tweepy"
   ]
  },
  {
   "cell_type": "markdown",
   "metadata": {},
   "source": [
    "Importando as Bibliotecas que serão utilizadas. Esteja livre para adicionar outras."
   ]
  },
  {
   "cell_type": "code",
   "execution_count": 193,
   "metadata": {
    "collapsed": true
   },
   "outputs": [],
   "source": [
    "import tweepy\n",
    "import math\n",
    "import os.path\n",
    "import pandas as pd\n",
    "import json\n",
    "from random import shuffle"
   ]
  },
  {
   "cell_type": "markdown",
   "metadata": {},
   "source": [
    "___\n",
    "## Autenticando no  Twitter\n",
    "\n",
    "Para realizar a captura dos dados é necessário ter uma conta cadastrada no twitter:\n",
    "\n",
    "* Conta:@carlakiim\n",
    "\n",
    "\n",
    "1. Caso ainda não tenha uma: https://twitter.com/signup\n",
    "1. Depois é necessário registrar um app para usar a biblioteca: https://apps.twitter.com/\n",
    "1. Dentro do registro do App, na aba Keys and Access Tokens, anotar os seguintes campos:\n",
    "    1. Consumer Key (API Key)\n",
    "    1. Consumer Secret (API Secret)\n",
    "1. Mais abaixo, gere um Token e anote também:\n",
    "    1. Access Token\n",
    "    1. Access Token Secret\n",
    "\n",
    "    \n",
    "1. Preencha os valores no arquivo \"auth.pass\"\n",
    "\n",
    "**ATENÇÃO**: Nunca divulgue os dados desse arquivo online (GitHub, etc). Ele contém as chaves necessárias para realizar as operações no twitter de forma automática e portanto é equivalente a ser \"hackeado\". De posse desses dados, pessoas mal intencionadas podem fazer todas as operações manuais (tweetar, seguir, bloquear/desbloquear, listar os seguidores, etc). Para efeito do projeto, esse arquivo não precisa ser entregue!!!"
   ]
  },
  {
   "cell_type": "code",
   "execution_count": 194,
   "metadata": {
    "collapsed": true
   },
   "outputs": [],
   "source": [
    "#Dados de autenticação do twitter:\n",
    "\n",
    "#Coloque aqui o identificador da conta no twitter:@carlakiim\n",
    "\n",
    "#leitura do arquivo no formato JSON\n",
    "with open('auth.pass') as fp:    \n",
    "    data = json.load(fp)\n",
    "\n",
    "#Configurando a biblioteca. Não modificar\n",
    "auth = tweepy.OAuthHandler(data['consumer_key'], data['consumer_secret'])\n",
    "auth.set_access_token(data['access_token'], data['access_token_secret'])"
   ]
  },
  {
   "cell_type": "markdown",
   "metadata": {},
   "source": [
    "___\n",
    "## Coletando Dados\n",
    "\n",
    "Agora vamos coletar os dados. Tenha em mente que dependendo do produto escolhido, não haverá uma quantidade significativa de mensagens, ou ainda poder haver muitos retweets.<br /><br /> \n",
    "Configurando:"
   ]
  },
  {
   "cell_type": "code",
   "execution_count": 195,
   "metadata": {
    "collapsed": true
   },
   "outputs": [],
   "source": [
    "#Produto escolhido:\n",
    "produto = 'KKWBeauty'\n",
    "\n",
    "#Quantidade mínima de mensagens capturadas:\n",
    "n = 500\n",
    "#Quantidade mínima de mensagens para a base de treinamento:\n",
    "t = 300\n",
    "\n",
    "#Filtro de língua, escolha uma na tabela ISO 639-1.\n",
    "lang = 'en'"
   ]
  },
  {
   "cell_type": "markdown",
   "metadata": {},
   "source": [
    "Capturando os dados do twitter:"
   ]
  },
  {
   "cell_type": "code",
   "execution_count": 196,
   "metadata": {
    "collapsed": true
   },
   "outputs": [],
   "source": [
    "#Cria um objeto para a captura\n",
    "api = tweepy.API(auth)\n",
    "\n",
    "#Inicia a captura, para mais detalhes: ver a documentação do tweepy\n",
    "i = 1\n",
    "msgs = []\n",
    "for msg in tweepy.Cursor(api.search, q=produto, lang=lang).items():    \n",
    "    msgs.append(msg.text.lower())\n",
    "    i += 1\n",
    "    if i > n:\n",
    "        break\n",
    "\n",
    "#Embaralhando as mensagens para reduzir um possível viés\n",
    "shuffle(msgs)"
   ]
  },
  {
   "cell_type": "markdown",
   "metadata": {},
   "source": [
    "Salvando os dados em uma planilha Excel:"
   ]
  },
  {
   "cell_type": "code",
   "execution_count": 197,
   "metadata": {
    "collapsed": true
   },
   "outputs": [],
   "source": [
    "#Verifica se o arquivo não existe para não substituir um conjunto pronto\n",
    "if not os.path.isfile('./{0}.xlsx'.format(produto)):\n",
    "    \n",
    "    #Abre o arquivo para escrita\n",
    "    writer = pd.ExcelWriter('{0}.xlsx'.format(produto))\n",
    "\n",
    "    #divide o conjunto de mensagens em duas planilhas\n",
    "    dft = pd.DataFrame({'Treinamento' : pd.Series(msgs[:t])})\n",
    "    dft.to_excel(excel_writer = writer, sheet_name = 'Treinamento', index = False)\n",
    "\n",
    "    dfc = pd.DataFrame({'Teste' : pd.Series(msgs[t:])})\n",
    "    dfc.to_excel(excel_writer = writer, sheet_name = 'Teste', index = False)\n",
    "\n",
    "    #fecha o arquivo\n",
    "    writer.save()"
   ]
  },
  {
   "cell_type": "code",
   "execution_count": 198,
   "metadata": {},
   "outputs": [],
   "source": [
    "#transfomando em listas\n",
    "dftreino = pd.read_excel('./{0}.xlsx'.format(produto))\n",
    "dfteste = pd.read_excel('./{0}.xlsx'.format(produto), sheetname = 'Teste')\n",
    "\n",
    "treino = []\n",
    "teste = []\n",
    "\n",
    "for i in range (t):\n",
    "    treino.append([dftreino['Treinamento'][i], dftreino['Relevância'][i]]) \n",
    "\n",
    "for i in range (n-t):\n",
    "    teste.append ([dfteste['Teste'][i], dftreino['Relevância'][i]])\n"
   ]
  },
  {
   "cell_type": "markdown",
   "metadata": {},
   "source": [
    "___\n",
    "## Classificando as Mensagens\n",
    "\n",
    "Agora você deve abrir o arquivo Excel com as mensagens capturadas e classificar na Coluna B se a mensagem é relevante ou não.<br /> \n",
    "Não se esqueça de colocar um nome para a coluna na célula **B1**.<br /><br />\n",
    "Fazer o mesmo na planilha de Controle.\n",
    "\n",
    "___\n",
    "## Montando o Classificador Naive-Bayes\n",
    "\n",
    "Com a base de treinamento montada, comece a desenvolver o classificador. Escreva o seu código abaixo:\n",
    "\n",
    "Opcionalmente: \n",
    "* Limpar as mensagens removendo os caracteres: enter, :, \", ', (, ), etc. Não remover emojis.<br />\n",
    "* Corrigir separação de espaços entre palavras e/ou emojis.\n",
    "* Propor outras limpezas/transformações que não afetem a qualidade da informação.\n",
    "\n"
   ]
  },
  {
   "cell_type": "code",
   "execution_count": 203,
   "metadata": {},
   "outputs": [],
   "source": [
    "#funcao do produtorio\n",
    "def produtorio(n):\n",
    "    total = 1\n",
    "    for i in range(0, len(n)):\n",
    "        total *= n[i]\n",
    "    return total\n",
    "\n",
    "class classificador:\n",
    "        \n",
    "    def __init__ (self,treino,teste):\n",
    "        self.Fsim = 0 #frequencia de tweets relevantes\n",
    "        self.Fnao = 0 #frequencia de tweets nao relevantes\n",
    "        self.totalpalavra = [0,0,0] #quantidade total de palavras, palavras relevantes(sim) e palavras irrelevantes(nao)\n",
    "        self.listaFreq = [] #[palavra, ftotal, fsim, fnao]\n",
    "        self.treino = treino\n",
    "        self.contapalavra = 0\n",
    "        self.teste = teste\n",
    "        \n",
    "    def normalize(self):\n",
    "        for tweet in self.treino:\n",
    "            tweet[0] = tweet[0].replace(':', '')\n",
    "            tweet[0] = tweet[0].replace('\"','')\n",
    "            tweet[0] = tweet[0].replace('()','')\n",
    "            tweet[0] = tweet[0].replace('@','')\n",
    "            tweet[0] = tweet[0].replace('rt','')\n",
    "            tweet[0] = tweet[0].replace('  ','')\n",
    "            tweet[0] = tweet[0].replace('\"','')\n",
    "            \n",
    "            #tweet[0] = tweet[0].split(\" \")\n",
    "        \n",
    "        for tweet in self.teste:\n",
    "            tweet[0] = tweet[0].replace(':','')\n",
    "            tweet[0] = tweet[0].replace('\"','')\n",
    "            tweet[0] = tweet[0].replace('()','')\n",
    "            tweet[0] = tweet[0].replace('@','')\n",
    "            tweet[0] = tweet[0].replace('rt','')\n",
    "            tweet[0] = tweet[0].replace('  ','')\n",
    "            tweet[0] = tweet[0].replace('\"','')\n",
    "            \n",
    "            #tweet[0] = tweet[0].split(\" \")\n",
    "            \n",
    "    \n",
    "    def treinando(self):\n",
    "        for tweet in self.treino:\n",
    "            if tweet[1] == 'sim':\n",
    "                self.Fsim += 1\n",
    "            else:\n",
    "                self.Fnao += 1\n",
    "                \n",
    "            for palavra in tweet[0]:\n",
    "                onlist = False\n",
    "                self.totalpalavra[0] += 1\n",
    "                for FreqPala in self.listaFreq:\n",
    "                    if palavra == self.listaFreq[0] and tweet[1] == 'sim':\n",
    "                        onlist = True\n",
    "                        self.listaFreq[1] += 1\n",
    "                        self.listaFreq[2] += 1\n",
    "                        self.totalpalavra[1] += 1\n",
    "                        \n",
    "                    elif palavra == self.listaFreq[0] and tweet[1] == 'não':\n",
    "                        onlist = True\n",
    "                        self.listaFreq[1] += 1\n",
    "                        self.listaFreq[3] += 1\n",
    "                        self.totalpalavra[2] += 1\n",
    "                        \n",
    "                if not onlist:\n",
    "                    self.contapalavra += 1\n",
    "                    if tweet[1] == 'sim':\n",
    "                        self.listaFreq.append([palavra, 1, 1, 0])\n",
    "                        self.totalpalavra[1] += 1\n",
    "                    else:\n",
    "                        self.listaFreq.append([palavra, 1, 0, 1])\n",
    "                        self.totalpalavra[2] += 1\n",
    "                            \n",
    "                            \n",
    "   \n",
    "\n",
    "    def analise(self,tweet):\n",
    "        listaph = []\n",
    "        listaphsim = []\n",
    "        listaphnao = []\n",
    "        Psim = self.Fsim/300 #frequencia de um tweet relevante aparecer dentre todos\n",
    "        Pnao = self.Fnao/300 #frequencia de um tweet  nao relevante aparecer dentre todos\n",
    "        for palavra in tweet:\n",
    "            nalista = False\n",
    "            for FreqPala in self.listaFreq:\n",
    "                if FreqPala[0] == palavra:\n",
    "                    nalista = True\n",
    "                    Ph = (FreqPala[1]+1)/self.contapalavra   # frequencia de cada palavra\n",
    "                    Phsim = (FreqPala[2]+1)/(self.contapalavra + FreqPala[2]) # frequencia de cada palavra relevante(sim) \n",
    "                    Phnao = (FreqPala[3]+1)/(self.contapalavra + FreqPala[3]) # frequencia de cada palavra irrelevante (nao)\n",
    "                    listaph.append(Ph)\n",
    "                    listaphsim.append(Phsim)\n",
    "                    listaphnao.append(Phnao)\n",
    "                                       \n",
    "                if not nalista:\n",
    "                    listaph.append(1/self.contapalavra)\n",
    "                    listaphsim.append(1/(self.contapalavra + FreqPala[2]))\n",
    "                    listaphnao.append(1/(self.contapalavra + FreqPala[3])) \n",
    "        print(listaph)            \n",
    "        PH = produtorio(listaph)\n",
    "        PHSIM = produtorio(listaphsim)\n",
    "        PHNAO = produtorio(listaphnao)\n",
    "        \n",
    "        Bayessim = (PHSIM * Psim)/PH\n",
    "        Bayesnao = (PHNAO * Pnao)/PH\n",
    "        \n",
    "        if (Bayessim > Bayesnao):\n",
    "            return 1\n",
    "        else:\n",
    "            return 0\n",
    "        \n",
    "    def testando (self):\n",
    "        relerele = 0\n",
    "        relenao = 0\n",
    "        naorelerele = 0\n",
    "        naorelenaorele = 0\n",
    "        totalacerto = 0\n",
    "        totalerro = 0\n",
    "        for tweet in teste:\n",
    "            if self.analise(tweet[0]) == tweet[1]:\n",
    "                totalacerto += 1\n",
    "                if tweet[0]:\n",
    "                    relerele += 1\n",
    "                else:\n",
    "                    relenao += 1\n",
    "            else:\n",
    "                totalerro += 1\n",
    "                if tweet[0]:\n",
    "                    relenao += 1\n",
    "                else:\n",
    "                    naorelenaorele += 1\n",
    "                        \n",
    "        print('Total de erros: ' + str(totalerro))\n",
    "        print('Total de acertos: ' + str(totalacerto))\n",
    "        print()\n",
    "        print('Positivos falsos:' + str(relenao))\n",
    "        print('POsitivos Verdadeiros:' + str(relerele))\n",
    "        print()\n",
    "        print('Negativos Falsos:' + str(naorelenaorele))\n",
    "        print('Negativos Verdadeiros:' + str(naorelerele))\n",
    "        "
   ]
  },
  {
   "cell_type": "markdown",
   "metadata": {},
   "source": [
    "___\n",
    "## Verificando a performance\n",
    "\n",
    "Agora você deve testar o seu Classificador com a base de Testes.<br /><br /> \n",
    "\n",
    "Você deve extrair as seguintes medidas:\n",
    "* Porcentagem de positivos falsos (marcados como relevante mas não são relevantes)\n",
    "* Porcentagem de positivos verdadeiros (marcado como relevante e são relevantes)\n",
    "* Porcentagem de negativos verdadeiros (marcado como não relevante e não são relevantes)\n",
    "* Porcentagem de negativos falsos (marcado como não relevante e são relevantes)\n",
    "\n",
    "Opcionalmente:\n",
    "* Criar categorias intermediárias de relevância baseado na diferença de probabilidades. Exemplo: muito relevante, relevante, neutro, irrelevante e muito irrelevante."
   ]
  },
  {
   "cell_type": "code",
   "execution_count": 204,
   "metadata": {
    "scrolled": true
   },
   "outputs": [
    {
     "name": "stderr",
     "output_type": "stream",
     "text": [
      "IOPub data rate exceeded.\n",
      "The notebook server will temporarily stop sending output\n",
      "to the client in order to avoid crashing it.\n",
      "To change this limit, set the config variable\n",
      "`--NotebookApp.iopub_data_rate_limit`.\n"
     ]
    },
    {
     "ename": "ZeroDivisionError",
     "evalue": "float division by zero",
     "output_type": "error",
     "traceback": [
      "\u001b[1;31m---------------------------------------------------------------------------\u001b[0m",
      "\u001b[1;31mZeroDivisionError\u001b[0m                         Traceback (most recent call last)",
      "\u001b[1;32m<ipython-input-204-e37d8b3396c5>\u001b[0m in \u001b[0;36m<module>\u001b[1;34m()\u001b[0m\n\u001b[0;32m      1\u001b[0m \u001b[0mobj\u001b[0m \u001b[1;33m=\u001b[0m \u001b[0mclassificador\u001b[0m\u001b[1;33m(\u001b[0m\u001b[0mtreino\u001b[0m\u001b[1;33m,\u001b[0m \u001b[0mteste\u001b[0m\u001b[1;33m)\u001b[0m\u001b[1;33m\u001b[0m\u001b[0m\n\u001b[0;32m      2\u001b[0m \u001b[0mobj\u001b[0m\u001b[1;33m.\u001b[0m\u001b[0mtreinando\u001b[0m\u001b[1;33m(\u001b[0m\u001b[1;33m)\u001b[0m\u001b[1;33m\u001b[0m\u001b[0m\n\u001b[1;32m----> 3\u001b[1;33m \u001b[0mobj\u001b[0m\u001b[1;33m.\u001b[0m\u001b[0mtestando\u001b[0m\u001b[1;33m(\u001b[0m\u001b[1;33m)\u001b[0m\u001b[1;33m\u001b[0m\u001b[0m\n\u001b[0m",
      "\u001b[1;32m<ipython-input-203-04d957ec696f>\u001b[0m in \u001b[0;36mtestando\u001b[1;34m(self)\u001b[0m\n\u001b[0;32m    119\u001b[0m         \u001b[0mtotalerro\u001b[0m \u001b[1;33m=\u001b[0m \u001b[1;36m0\u001b[0m\u001b[1;33m\u001b[0m\u001b[0m\n\u001b[0;32m    120\u001b[0m         \u001b[1;32mfor\u001b[0m \u001b[0mtweet\u001b[0m \u001b[1;32min\u001b[0m \u001b[0mteste\u001b[0m\u001b[1;33m:\u001b[0m\u001b[1;33m\u001b[0m\u001b[0m\n\u001b[1;32m--> 121\u001b[1;33m             \u001b[1;32mif\u001b[0m \u001b[0mself\u001b[0m\u001b[1;33m.\u001b[0m\u001b[0manalise\u001b[0m\u001b[1;33m(\u001b[0m\u001b[0mtweet\u001b[0m\u001b[1;33m[\u001b[0m\u001b[1;36m0\u001b[0m\u001b[1;33m]\u001b[0m\u001b[1;33m)\u001b[0m \u001b[1;33m==\u001b[0m \u001b[0mtweet\u001b[0m\u001b[1;33m[\u001b[0m\u001b[1;36m1\u001b[0m\u001b[1;33m]\u001b[0m\u001b[1;33m:\u001b[0m\u001b[1;33m\u001b[0m\u001b[0m\n\u001b[0m\u001b[0;32m    122\u001b[0m                 \u001b[0mtotalacerto\u001b[0m \u001b[1;33m+=\u001b[0m \u001b[1;36m1\u001b[0m\u001b[1;33m\u001b[0m\u001b[0m\n\u001b[0;32m    123\u001b[0m                 \u001b[1;32mif\u001b[0m \u001b[0mtweet\u001b[0m\u001b[1;33m[\u001b[0m\u001b[1;36m0\u001b[0m\u001b[1;33m]\u001b[0m\u001b[1;33m:\u001b[0m\u001b[1;33m\u001b[0m\u001b[0m\n",
      "\u001b[1;32m<ipython-input-203-04d957ec696f>\u001b[0m in \u001b[0;36manalise\u001b[1;34m(self, tweet)\u001b[0m\n\u001b[0;32m    103\u001b[0m         \u001b[0mPHNAO\u001b[0m \u001b[1;33m=\u001b[0m \u001b[0mprodutorio\u001b[0m\u001b[1;33m(\u001b[0m\u001b[0mlistaphnao\u001b[0m\u001b[1;33m)\u001b[0m\u001b[1;33m\u001b[0m\u001b[0m\n\u001b[0;32m    104\u001b[0m \u001b[1;33m\u001b[0m\u001b[0m\n\u001b[1;32m--> 105\u001b[1;33m         \u001b[0mBayessim\u001b[0m \u001b[1;33m=\u001b[0m \u001b[1;33m(\u001b[0m\u001b[0mPHSIM\u001b[0m \u001b[1;33m*\u001b[0m \u001b[0mPsim\u001b[0m\u001b[1;33m)\u001b[0m\u001b[1;33m/\u001b[0m\u001b[0mPH\u001b[0m\u001b[1;33m\u001b[0m\u001b[0m\n\u001b[0m\u001b[0;32m    106\u001b[0m         \u001b[0mBayesnao\u001b[0m \u001b[1;33m=\u001b[0m \u001b[1;33m(\u001b[0m\u001b[0mPHNAO\u001b[0m \u001b[1;33m*\u001b[0m \u001b[0mPnao\u001b[0m\u001b[1;33m)\u001b[0m\u001b[1;33m/\u001b[0m\u001b[0mPH\u001b[0m\u001b[1;33m\u001b[0m\u001b[0m\n\u001b[0;32m    107\u001b[0m \u001b[1;33m\u001b[0m\u001b[0m\n",
      "\u001b[1;31mZeroDivisionError\u001b[0m: float division by zero"
     ]
    }
   ],
   "source": [
    "obj = classificador(treino, teste)\n",
    "obj.treinando()\n",
    "obj.testando()"
   ]
  },
  {
   "cell_type": "markdown",
   "metadata": {
    "collapsed": true
   },
   "source": [
    "___\n",
    "## Concluindo\n",
    "\n",
    "Escreva aqui a sua conclusão.<br /> \n",
    "Faça um comparativo qualitativo sobre as medidas obtidas.<br />\n",
    "Explique como são tratadas as mensagens com dupla negação e sarcasmo.<br />\n",
    "Proponha um plano de expansão. Por que eles devem continuar financiando o seu projeto?<br />\n",
    "\n",
    "Opcionalmente: \n",
    "* Discorrer por que não posso alimentar minha base de Treinamento automaticamente usando o próprio classificador, aplicado a novos tweets.\n",
    "* Propor diferentes cenários de uso para o classificador Naive-Bayes. Cenários sem intersecção com este projeto.\n",
    "* Sugerir e explicar melhorias reais no classificador com indicações concretas de como implementar (não é preciso codificar, mas indicar como fazer e material de pesquisa sobre o assunto).\n"
   ]
  },
  {
   "cell_type": "code",
   "execution_count": null,
   "metadata": {
    "collapsed": true
   },
   "outputs": [],
   "source": []
  }
 ],
 "metadata": {
  "kernelspec": {
   "display_name": "Python 3",
   "language": "python",
   "name": "python3"
  },
  "language_info": {
   "codemirror_mode": {
    "name": "ipython",
    "version": 3
   },
   "file_extension": ".py",
   "mimetype": "text/x-python",
   "name": "python",
   "nbconvert_exporter": "python",
   "pygments_lexer": "ipython3",
   "version": "3.6.1"
  }
 },
 "nbformat": 4,
 "nbformat_minor": 1
}
