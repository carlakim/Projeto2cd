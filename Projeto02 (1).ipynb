{
 "cells": [
  {
   "cell_type": "markdown",
   "metadata": {},
   "source": [
    "# Projeto 2 - Classificador Automático de Sentimento\n",
    "\n",
    "Você foi contratado por uma empresa parar analisar como os clientes estão reagindo a um determinado produto no Twitter. A empresa deseja que você crie um programa que irá analisar as mensagens disponíveis e classificará como \"relevante\" ou \"irrelevante\". Com isso ela deseja que mensagens negativas, que denigrem o nome do produto, ou que mereçam destaque, disparem um foco de atenção da área de marketing.<br /><br />\n",
    "Como aluno de Ciência dos Dados, você lembrou do Teorema de Bayes, mais especificamente do Classificador Naive-Bayes, que é largamente utilizado em filtros anti-spam de e-mails. O classificador permite calcular qual a probabilidade de uma mensagem ser relevante dadas as palavras em seu conteúdo.<br /><br />\n",
    "Para realizar o MVP (*minimum viable product*) do projeto, você precisa implementar uma versão do classificador que \"aprende\" o que é relevante com uma base de treinamento e compara a performance dos resultados com uma base de testes.<br /><br />\n",
    "Após validado, o seu protótipo poderá também capturar e classificar automaticamente as mensagens da plataforma.\n",
    "\n",
    "## Informações do Projeto\n",
    "\n",
    "Prazo: 13/Set até às 23:59.<br />\n",
    "Grupo: 1 ou 2 pessoas.<br /><br />\n",
    "Entregáveis via GitHub: \n",
    "* Arquivo notebook com o código do classificador, seguindo as orientações abaixo.\n",
    "* Arquivo Excel com as bases de treinamento e teste totalmente classificado.\n",
    "\n",
    "**NÃO disponibilizar o arquivo com os *access keys/tokens* do Twitter.**\n",
    "\n",
    "\n",
    "### Check 3: \n",
    "\n",
    "Até o dia 06 de Setembro às 23:59, o notebook e o xlsx devem estar no Github com as seguintes evidências: \n",
    "    * Conta no twitter criada.\n",
    "    * Produto escolhido.\n",
    "    * Arquivo Excel contendo a base de treinamento e teste já classificado.\n",
    "\n",
    "Sugestão de leitura:<br />\n",
    "http://docs.tweepy.org/en/v3.5.0/index.html<br />\n",
    "https://monkeylearn.com/blog/practical-explanation-naive-bayes-classifier/"
   ]
  },
  {
   "cell_type": "markdown",
   "metadata": {},
   "source": [
    "___\n",
    "\n",
    "## Preparando o ambiente\n",
    "\n",
    "Instalando a biblioteca *tweepy* para realizar a conexão com o Twitter:"
   ]
  },
  {
   "cell_type": "code",
   "execution_count": 4,
   "metadata": {
    "collapsed": true
   },
   "outputs": [],
   "source": [
    "%%capture\n",
    "\n",
    "#Instalando o tweepy\n",
    "!pip install tweepy"
   ]
  },
  {
   "cell_type": "markdown",
   "metadata": {},
   "source": [
    "Importando as Bibliotecas que serão utilizadas. Esteja livre para adicionar outras."
   ]
  },
  {
   "cell_type": "code",
   "execution_count": 25,
   "metadata": {
    "collapsed": true
   },
   "outputs": [],
   "source": [
    "import tweepy\n",
    "import math\n",
    "import os.path\n",
    "import pandas as pd\n",
    "import json\n",
    "from random import shuffle\n",
    "from IPython.display import clear_output"
   ]
  },
  {
   "cell_type": "markdown",
   "metadata": {},
   "source": [
    "___\n",
    "## Autenticando no  Twitter\n",
    "\n",
    "Para realizar a captura dos dados é necessário ter uma conta cadastrada no twitter:\n",
    "\n",
    "* Conta:@carlakiim\n",
    "\n",
    "\n",
    "1. Caso ainda não tenha uma: https://twitter.com/signup\n",
    "1. Depois é necessário registrar um app para usar a biblioteca: https://apps.twitter.com/\n",
    "1. Dentro do registro do App, na aba Keys and Access Tokens, anotar os seguintes campos:\n",
    "    1. Consumer Key (API Key)\n",
    "    1. Consumer Secret (API Secret)\n",
    "1. Mais abaixo, gere um Token e anote também:\n",
    "    1. Access Token\n",
    "    1. Access Token Secret\n",
    "\n",
    "    \n",
    "1. Preencha os valores no arquivo \"auth.pass\"\n",
    "\n",
    "**ATENÇÃO**: Nunca divulgue os dados desse arquivo online (GitHub, etc). Ele contém as chaves necessárias para realizar as operações no twitter de forma automática e portanto é equivalente a ser \"hackeado\". De posse desses dados, pessoas mal intencionadas podem fazer todas as operações manuais (tweetar, seguir, bloquear/desbloquear, listar os seguidores, etc). Para efeito do projeto, esse arquivo não precisa ser entregue!!!"
   ]
  },
  {
   "cell_type": "code",
   "execution_count": 6,
   "metadata": {},
   "outputs": [
    {
     "ename": "FileNotFoundError",
     "evalue": "[Errno 2] No such file or directory: 'auth.pass'",
     "output_type": "error",
     "traceback": [
      "\u001b[0;31m---------------------------------------------------------------------------\u001b[0m",
      "\u001b[0;31mFileNotFoundError\u001b[0m                         Traceback (most recent call last)",
      "\u001b[0;32m<ipython-input-6-92e13bc3a0d3>\u001b[0m in \u001b[0;36m<module>\u001b[0;34m()\u001b[0m\n\u001b[1;32m      4\u001b[0m \u001b[1;33m\u001b[0m\u001b[0m\n\u001b[1;32m      5\u001b[0m \u001b[1;31m#leitura do arquivo no formato JSON\u001b[0m\u001b[1;33m\u001b[0m\u001b[1;33m\u001b[0m\u001b[0m\n\u001b[0;32m----> 6\u001b[0;31m \u001b[1;32mwith\u001b[0m \u001b[0mopen\u001b[0m\u001b[1;33m(\u001b[0m\u001b[1;34m'auth.pass'\u001b[0m\u001b[1;33m)\u001b[0m \u001b[1;32mas\u001b[0m \u001b[0mfp\u001b[0m\u001b[1;33m:\u001b[0m\u001b[1;33m\u001b[0m\u001b[0m\n\u001b[0m\u001b[1;32m      7\u001b[0m     \u001b[0mdata\u001b[0m \u001b[1;33m=\u001b[0m \u001b[0mjson\u001b[0m\u001b[1;33m.\u001b[0m\u001b[0mload\u001b[0m\u001b[1;33m(\u001b[0m\u001b[0mfp\u001b[0m\u001b[1;33m)\u001b[0m\u001b[1;33m\u001b[0m\u001b[0m\n\u001b[1;32m      8\u001b[0m \u001b[1;33m\u001b[0m\u001b[0m\n",
      "\u001b[0;31mFileNotFoundError\u001b[0m: [Errno 2] No such file or directory: 'auth.pass'"
     ]
    }
   ],
   "source": [
    "#Dados de autenticação do twitter:\n",
    "\n",
    "#Coloque aqui o identificador da conta no twitter:@carlakiim\n",
    "\n",
    "#leitura do arquivo no formato JSON\n",
    "with open('auth.pass') as fp:    \n",
    "    data = json.load(fp)\n",
    "\n",
    "#Configurando a biblioteca. Não modificar\n",
    "auth = tweepy.OAuthHandler(data['consumer_key'], data['consumer_secret'])\n",
    "auth.set_access_token(data['access_token'], data['access_token_secret'])"
   ]
  },
  {
   "cell_type": "markdown",
   "metadata": {},
   "source": [
    "___\n",
    "## Coletando Dados\n",
    "\n",
    "Agora vamos coletar os dados. Tenha em mente que dependendo do produto escolhido, não haverá uma quantidade significativa de mensagens, ou ainda poder haver muitos retweets.<br /><br /> \n",
    "Configurando:"
   ]
  },
  {
   "cell_type": "code",
   "execution_count": null,
   "metadata": {
    "collapsed": true
   },
   "outputs": [],
   "source": [
    "#Produto escolhido:\n",
    "produto = 'KKWBeauty'\n",
    "\n",
    "#Quantidade mínima de mensagens capturadas:\n",
    "n = 500\n",
    "#Quantidade mínima de mensagens para a base de treinamento:\n",
    "t = 300\n",
    "\n",
    "#Filtro de língua, escolha uma na tabela ISO 639-1.\n",
    "lang = 'en'"
   ]
  },
  {
   "cell_type": "markdown",
   "metadata": {},
   "source": [
    "Capturando os dados do twitter:"
   ]
  },
  {
   "cell_type": "code",
   "execution_count": null,
   "metadata": {
    "collapsed": true
   },
   "outputs": [],
   "source": [
    "#Cria um objeto para a captura\n",
    "api = tweepy.API(auth)\n",
    "\n",
    "#Inicia a captura, para mais detalhes: ver a documentação do tweepy\n",
    "i = 1\n",
    "msgs = []\n",
    "for msg in tweepy.Cursor(api.search, q=produto, lang=lang).items():    \n",
    "    msgs.append(msg.text.lower())\n",
    "    i += 1\n",
    "    if i > n:\n",
    "        break\n",
    "\n",
    "#Embaralhando as mensagens para reduzir um possível viés\n",
    "shuffle(msgs)"
   ]
  },
  {
   "cell_type": "markdown",
   "metadata": {},
   "source": [
    "Salvando os dados em uma planilha Excel:"
   ]
  },
  {
   "cell_type": "code",
   "execution_count": null,
   "metadata": {
    "collapsed": true
   },
   "outputs": [],
   "source": [
    "#Verifica se o arquivo não existe para não substituir um conjunto pronto\n",
    "if not os.path.isfile('./{0}.xlsx'.format(produto)):\n",
    "    \n",
    "    #Abre o arquivo para escrita\n",
    "    writer = pd.ExcelWriter('{0}.xlsx'.format(produto))\n",
    "\n",
    "    #divide o conjunto de mensagens em duas planilhas\n",
    "    dft = pd.DataFrame({'Treinamento' : pd.Series(msgs[:t])})\n",
    "    dft.to_excel(excel_writer = writer, sheet_name = 'Treinamento', index = False)\n",
    "\n",
    "    dfc = pd.DataFrame({'Teste' : pd.Series(msgs[t:])})\n",
    "    dfc.to_excel(excel_writer = writer, sheet_name = 'Teste', index = False)\n",
    "\n",
    "    #fecha o arquivo\n",
    "    writer.save()"
   ]
  },
  {
   "cell_type": "code",
   "execution_count": 222,
   "metadata": {
    "collapsed": true
   },
   "outputs": [],
   "source": [
    "#transfomando em listas\n",
    "#RODAR A PARTIR DAQUI\n",
    "dftreino = pd.read_excel('./{0}.xlsx'.format(produto))\n",
    "dfteste = pd.read_excel('./{0}.xlsx'.format(produto), sheetname = 'Teste')\n",
    "\n",
    "treino = []\n",
    "teste = []\n",
    "\n",
    "for i in range (t):\n",
    "    treino.append([dftreino['Treinamento'][i], dftreino['Relevência'][i]]) \n",
    "\n",
    "for i in range (n-t):\n",
    "    teste.append ([dfteste['Teste'][i], dftreino['Relevência'][i]])\n"
   ]
  },
  {
   "cell_type": "markdown",
   "metadata": {},
   "source": [
    "___\n",
    "## Classificando as Mensagens\n",
    "\n",
    "Agora você deve abrir o arquivo Excel com as mensagens capturadas e classificar na Coluna B se a mensagem é relevante ou não.<br /> \n",
    "Não se esqueça de colocar um nome para a coluna na célula **B1**.<br /><br />\n",
    "Fazer o mesmo na planilha de Controle.\n",
    "\n",
    "___\n",
    "## Montando o Classificador Naive-Bayes\n",
    "\n",
    "Com a base de treinamento montada, comece a desenvolver o classificador. Escreva o seu código abaixo:\n",
    "\n",
    "Opcionalmente: \n",
    "* Limpar as mensagens removendo os caracteres: enter, :, \", ', (, ), etc. Não remover emojis.<br />\n",
    "* Corrigir separação de espaços entre palavras e/ou emojis.\n",
    "* Propor outras limpezas/transformações que não afetem a qualidade da informação.\n",
    "\n"
   ]
  },
  {
   "cell_type": "code",
   "execution_count": 223,
   "metadata": {
    "collapsed": true
   },
   "outputs": [],
   "source": [
    "#funcao do produtorio\n",
    "def produtorio(n):\n",
    "    total = 100000\n",
    "    for i in range(0, len(n)):\n",
    "        total *= n[i]\n",
    "    return total\n",
    "\n",
    "class classificador:\n",
    "        \n",
    "    def __init__ (self,treino,teste):\n",
    "        self.Fsim = 0 #frequencia de tweets relevantes\n",
    "        self.Fnao = 0 #frequencia de tweets nao relevantes\n",
    "        self.totalpalavra = [0,0,0] #quantidade total de palavras, palavras relevantes(sim) e palavras irrelevantes(nao)\n",
    "        self.listaFreq = [] #[palavra, ftotal, fsim, fnao]\n",
    "        self.treino = treino\n",
    "        self.contapalavra = 0\n",
    "        self.teste = teste\n",
    "        \n",
    "    def normalize(self):\n",
    "        for tweet in self.treino:\n",
    "            tweet[0] = tweet[0].replace(':', '')\n",
    "            tweet[0] = tweet[0].replace('\"','')\n",
    "            tweet[0] = tweet[0].replace('()','')\n",
    "            tweet[0] = tweet[0].replace('@','')\n",
    "            tweet[0] = tweet[0].replace('rt','')\n",
    "            tweet[0] = tweet[0].replace('  ','')\n",
    "            tweet[0] = tweet[0].replace('\"','')\n",
    "            \n",
    "            tweet[0] = tweet[0].split(\" \")\n",
    "        \n",
    "        for tweet in self.teste:\n",
    "            tweet[0] = tweet[0].replace(':','')\n",
    "            tweet[0] = tweet[0].replace('\"','')\n",
    "            tweet[0] = tweet[0].replace('()','')\n",
    "            tweet[0] = tweet[0].replace('@','')\n",
    "            tweet[0] = tweet[0].replace('rt','')\n",
    "            tweet[0] = tweet[0].replace('  ','')\n",
    "            tweet[0] = tweet[0].replace('\"','')\n",
    "            \n",
    "            tweet[0] = tweet[0].split(\" \")\n",
    "            \n",
    "    \n",
    "    def treinando(self):\n",
    "        c=0\n",
    "        for tweet in self.treino:\n",
    "            c+=1\n",
    "            clear_output()\n",
    "            print(str((c/300)*100) +\"%\")\n",
    "            if tweet[1] == 'sim':\n",
    "                self.Fsim += 1\n",
    "            else:\n",
    "                self.Fnao += 1\n",
    "                \n",
    "            for palavra in tweet[0]:\n",
    "                onlist = False\n",
    "                self.totalpalavra[0] += 1\n",
    "                for FreqPala in self.listaFreq:\n",
    "                    if palavra == FreqPala[0] and tweet[1] == 'sim':\n",
    "                        onlist = True\n",
    "                        FreqPala[1] += 1\n",
    "                        FreqPala[2] += 1\n",
    "                        self.totalpalavra[1] += 1\n",
    "                        \n",
    "                    elif palavra == FreqPala[0] and tweet[1] == 'não':\n",
    "                        onlist = True\n",
    "                        FreqPala[1] += 1\n",
    "                        FreqPala[3] += 1\n",
    "                        self.totalpalavra[2] += 1\n",
    "                        \n",
    "                if not onlist:\n",
    "                    self.contapalavra += 1\n",
    "                    if tweet[1] == 'sim':\n",
    "                        self.listaFreq.append([palavra, 1, 1, 0])\n",
    "                        self.totalpalavra[1] += 1\n",
    "                    else:\n",
    "                        self.listaFreq.append([palavra, 1, 0, 1])\n",
    "                        self.totalpalavra[2] += 1\n",
    "                            \n",
    "                            \n",
    "   \n",
    "\n",
    "    def analise(self,tweet):\n",
    "        listaph = []\n",
    "        listaphsim = []\n",
    "        listaphnao = []\n",
    "        Psim = self.Fsim/300 #frequencia de um tweet relevante aparecer dentre todos\n",
    "        Pnao = self.Fnao/300 #frequencia de um tweet  nao relevante aparecer dentre todos\n",
    "        for palavra in tweet:\n",
    "            nalista = False\n",
    "            for FreqPala in self.listaFreq:\n",
    "                if nalista == False and FreqPala[0] == palavra:\n",
    "                    nalista = True\n",
    "                    Ph = (FreqPala[1]+1)/self.contapalavra   # frequencia de cada palavra\n",
    "                    Phsim = (FreqPala[2]+1)/(self.contapalavra + FreqPala[2]) # frequencia de cada palavra relevante(sim) \n",
    "                    Phnao = (FreqPala[3]+1)/(self.contapalavra + FreqPala[3]) # frequencia de cada palavra irrelevante (nao)\n",
    "                    #print(FreqPala)\n",
    "                    listaph.append(Ph)\n",
    "                    listaphsim.append(Phsim)\n",
    "                    listaphnao.append(Phnao)\n",
    "                                       \n",
    "            if not nalista:\n",
    "                listaph.append(1/self.contapalavra)\n",
    "                listaphsim.append(1/(self.contapalavra + FreqPala[2]))\n",
    "                listaphnao.append(1/(self.contapalavra + FreqPala[3]))             \n",
    "        PH = produtorio(listaph)\n",
    "        PHSIM = produtorio(listaphsim)\n",
    "        PHNAO = produtorio(listaphnao)\n",
    "        \n",
    "        Bayessim = (PHSIM * Psim)/PH\n",
    "        Bayesnao = (PHNAO * Pnao)/PH\n",
    "        if (Bayessim > Bayesnao):\n",
    "            return \"sim\"\n",
    "        else:\n",
    "            return \"não\"\n",
    "        \n",
    "    def testando (self):\n",
    "        releErro = 0\n",
    "        releAcerto = 0\n",
    "        naoreleErro = 0\n",
    "        naoreleAcerto = 0\n",
    "        totalAcerto = 0\n",
    "        totalErro = 0\n",
    "        C=0\n",
    "        for tweet in teste:\n",
    "            C+=1\n",
    "            clear_output()\n",
    "            print(str((C/200)*100) +\"%\")\n",
    "            if self.analise(tweet[0]) == tweet[1]:\n",
    "                totalAcerto += 1\n",
    "                if tweet[0]==\"sim\":\n",
    "                    releAcerto += 1\n",
    "                else:\n",
    "                    naoreleAcerto += 1\n",
    "            else:\n",
    "                totalErro += 1\n",
    "                if tweet[0]==\"sim\":\n",
    "                    releErro += 1\n",
    "                else:\n",
    "                    naoreleErro += 1\n",
    "                        \n",
    "        print('Total de erros: ' + str(totalErro))\n",
    "        print('Total de acertos: ' + str(totalAcerto))\n",
    "        print()\n",
    "        print('Positivos falsos:' + str(releErro))\n",
    "        print('Positivos Verdadeiros:' + str(releAcerto))\n",
    "        print()\n",
    "        print('Negativos Falsos:' + str(naoreleErro))\n",
    "        print('Negativos Verdadeiros:' + str(naoreleAcerto))\n",
    "        "
   ]
  },
  {
   "cell_type": "markdown",
   "metadata": {},
   "source": [
    "___\n",
    "## Verificando a performance\n",
    "\n",
    "Agora você deve testar o seu Classificador com a base de Testes.<br /><br /> \n",
    "\n",
    "Você deve extrair as seguintes medidas:\n",
    "* Porcentagem de positivos falsos (marcados como relevante mas não são relevantes)\n",
    "* Porcentagem de positivos verdadeiros (marcado como relevante e são relevantes)\n",
    "* Porcentagem de negativos verdadeiros (marcado como não relevante e não são relevantes)\n",
    "* Porcentagem de negativos falsos (marcado como não relevante e são relevantes)\n",
    "\n",
    "Opcionalmente:\n",
    "* Criar categorias intermediárias de relevância baseado na diferença de probabilidades. Exemplo: muito relevante, relevante, neutro, irrelevante e muito irrelevante."
   ]
  },
  {
   "cell_type": "code",
   "execution_count": 224,
   "metadata": {
    "collapsed": true,
    "scrolled": true
   },
   "outputs": [],
   "source": [
    "obj = classificador(treino, teste)\n",
    "\n",
    "\n"
   ]
  },
  {
   "cell_type": "code",
   "execution_count": 225,
   "metadata": {},
   "outputs": [
    {
     "name": "stdout",
     "output_type": "stream",
     "text": [
      "100.0%\n"
     ]
    }
   ],
   "source": [
    "obj.normalize()\n",
    "obj.treinando()"
   ]
  },
  {
   "cell_type": "code",
   "execution_count": 226,
   "metadata": {},
   "outputs": [
    {
     "name": "stdout",
     "output_type": "stream",
     "text": [
      "100.0%\n",
      "Total de erros: 26\n",
      "Total de acertos: 174\n",
      "\n",
      "Positivos falsos:0\n",
      "Positivos Verdadeiros:0\n",
      "\n",
      "Negativos Falsos:26\n",
      "Negativos Verdadeiros:174\n"
     ]
    }
   ],
   "source": [
    "print(obj.treino[1])\n",
    "obj.testando()"
   ]
  },
  {
   "cell_type": "markdown",
   "metadata": {
    "collapsed": true
   },
   "source": [
    "___\n",
    "## Concluindo\n",
    "\n",
    "Escreva aqui a sua conclusão.<br /> \n",
    "Faça um comparativo qualitativo sobre as medidas obtidas.<br />\n",
    "Explique como são tratadas as mensagens com dupla negação e sarcasmo.<br />\n",
    "Proponha um plano de expansão. Por que eles devem continuar financiando o seu projeto?<br />\n",
    "\n",
    "Opcionalmente: \n",
    "* Discorrer por que não posso alimentar minha base de Treinamento automaticamente usando o próprio classificador, aplicado a novos tweets.\n",
    "* Propor diferentes cenários de uso para o classificador Naive-Bayes. Cenários sem intersecção com este projeto.\n",
    "* Sugerir e explicar melhorias reais no classificador com indicações concretas de como implementar (não é preciso codificar, mas indicar como fazer e material de pesquisa sobre o assunto).\n"
   ]
  },
  {
   "cell_type": "markdown",
   "metadata": {
    "collapsed": true
   },
   "source": [
    "Os resultados obtidos demonstram que há diversos comentários (tweets) que aparentam ser irrelevantes, devido à maneira como são escritos. Mas que na verdade, podem muito relevantes para o feedback de um produto.\n",
    "O número de negativos falsos obtidos, 26, demosntra que uma má leitura de um comentário pode ocasionar na perda de uma opinião crítica, e estando on-line, pode aparecer mais de uma vez por diversos usuários. Então todos esses comentários seriam marcados como irrelevantes, embora pudecem contribuir com melhoras para o produto. Afinal, toda crítica é válida para uma futura melhoria.\n",
    "Já o número de negativos verdadeiros mstra que uma boa análise foi realizada, de maneira que a maiora dos comentário realmente foram marcados da maneira correta, quando mostravam um certo padrão de spam, sites fakes, descrição e frequência com que apareciam. Essas menssagens tinham uma recorrência maior e eram comentários vazios, nada era diretamente relacionado à qualidade do produto, nem um review. Assim, eram posts que levariam para outro site, onde supostamente se compraria o produto.\n",
    "\n",
    "As mensagens de sarcasmo e dupla negação acabam se tornando relevantes. Por mais que sejam comentários que debocham, por detrás há uma crítica, uma opinião do consumidor, que é super valiosa para aqueles que fabricam o produto e querem saber sobre o mercado dele.\n",
    "O projeto consistiu numa breve análise do protudo no twiter, onde há mensagens a todo momento. Assim, para conseguir informações mais consistentes e relevantes para o produto, um aprofundamento com um banco de dados maior(mais tweets além de outras redes sociais), focado com um certo público alvo, no caso, são majoritariamente mulheres, tornariam os dados mais interessantes. Mas para tal análise, um futuro projeto deveria ser realizado, mirando em aspectos mais específicos sobre o que a empresa deseja saber.  "
   ]
  }
 ],
 "metadata": {
  "kernelspec": {
   "display_name": "Python 3",
   "language": "python",
   "name": "python3"
  },
  "language_info": {
   "codemirror_mode": {
    "name": "ipython",
    "version": 3
   },
   "file_extension": ".py",
   "mimetype": "text/x-python",
   "name": "python",
   "nbconvert_exporter": "python",
   "pygments_lexer": "ipython3",
   "version": "3.6.1"
  }
 },
 "nbformat": 4,
 "nbformat_minor": 1
}
